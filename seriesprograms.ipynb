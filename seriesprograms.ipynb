{
  "nbformat": 4,
  "nbformat_minor": 0,
  "metadata": {
    "colab": {
      "provenance": [],
      "authorship_tag": "ABX9TyM+1F+EJdkvnhDgQMkJqnre",
      "include_colab_link": true
    },
    "kernelspec": {
      "name": "python3",
      "display_name": "Python 3"
    },
    "language_info": {
      "name": "python"
    }
  },
  "cells": [
    {
      "cell_type": "markdown",
      "metadata": {
        "id": "view-in-github",
        "colab_type": "text"
      },
      "source": [
        "<a href=\"https://colab.research.google.com/github/nbmaharana2/Python/blob/main/seriesprograms.ipynb\" target=\"_parent\"><img src=\"https://colab.research.google.com/assets/colab-badge.svg\" alt=\"Open In Colab\"/></a>"
      ]
    },
    {
      "cell_type": "code",
      "execution_count": 1,
      "metadata": {
        "colab": {
          "base_uri": "https://localhost:8080/"
        },
        "id": "9_56WkTOPCyX",
        "outputId": "99fad231-de6e-482f-a66b-458e828e2241"
      },
      "outputs": [
        {
          "output_type": "stream",
          "name": "stdout",
          "text": [
            "1    500\n",
            "2    500\n",
            "3    500\n",
            "dtype: int64\n"
          ]
        }
      ],
      "source": [
        "# Creating series object using scalar value\n",
        "import pandas as pd\n",
        "s=pd.Series(data=500,index=[1,2,3])\n",
        "print(s)\n"
      ]
    },
    {
      "cell_type": "code",
      "source": [
        "# Creating series object using scalar value with index\n",
        "import pandas as pd\n",
        "s=pd.Series(index=[1,2],data=100)\n",
        "print(s)"
      ],
      "metadata": {
        "colab": {
          "base_uri": "https://localhost:8080/"
        },
        "id": "FtsyvHLgP-6r",
        "outputId": "a3ef1921-e8b3-4276-ca3a-ec6f22e0ae4b"
      },
      "execution_count": 5,
      "outputs": [
        {
          "output_type": "stream",
          "name": "stdout",
          "text": [
            "1    100\n",
            "2    100\n",
            "dtype: int64\n"
          ]
        }
      ]
    },
    {
      "cell_type": "code",
      "source": [
        "# Creating series object using scalar value without index\n",
        "import pandas as pd\n",
        "s=pd.Series(100)\n",
        "print(s)"
      ],
      "metadata": {
        "colab": {
          "base_uri": "https://localhost:8080/"
        },
        "id": "ZEdV82QMQB3-",
        "outputId": "478fa0df-6f2a-48d4-b59a-e47b431b5aca"
      },
      "execution_count": 4,
      "outputs": [
        {
          "output_type": "stream",
          "name": "stdout",
          "text": [
            "0    100\n",
            "dtype: int64\n"
          ]
        }
      ]
    },
    {
      "cell_type": "code",
      "source": [
        "# Creating series object using List with and without index\n",
        "import pandas as pd\n",
        "s1= pd.Series([1,2,3,3])\n",
        "print('Series List without s1 is')\n",
        "print(s1)\n",
        "s2= pd.Series([10,20,30,30], index=[1,2,3,4])\n",
        "print('Series List with index s2 is')\n",
        "print(s2)"
      ],
      "metadata": {
        "colab": {
          "base_uri": "https://localhost:8080/"
        },
        "id": "qB9IWkNeRODT",
        "outputId": "637135de-7b58-4d51-dd52-f2bc509b638f"
      },
      "execution_count": 9,
      "outputs": [
        {
          "output_type": "stream",
          "name": "stdout",
          "text": [
            "Series List without s1 is\n",
            "0    1\n",
            "1    2\n",
            "2    3\n",
            "3    3\n",
            "dtype: int64\n",
            "Series List with index s2 is\n",
            "1    10\n",
            "2    20\n",
            "3    30\n",
            "4    30\n",
            "dtype: int64\n"
          ]
        }
      ]
    },
    {
      "cell_type": "code",
      "source": [
        "# Creating series object using Tuple\n",
        "import pandas as pd\n",
        "s1= pd.Series((1,2,3,3))\n",
        "print('Series with tuple s1 is')\n",
        "print(s1)"
      ],
      "metadata": {
        "colab": {
          "base_uri": "https://localhost:8080/"
        },
        "id": "iIzSfnHDS3sS",
        "outputId": "174c2e35-08d2-48ba-a6fc-1eaf78837dc6"
      },
      "execution_count": 8,
      "outputs": [
        {
          "output_type": "stream",
          "name": "stdout",
          "text": [
            "Series with tuple s1 is\n",
            "0    1\n",
            "1    2\n",
            "2    3\n",
            "3    3\n",
            "dtype: int64\n"
          ]
        }
      ]
    },
    {
      "cell_type": "code",
      "source": [
        "# Creating series object using Numpy Array\n",
        "import pandas as pd\n",
        "import numpy as np\n",
        "array= np.array([1.1,2.2,3.1,3.4])\n",
        "s=pd.Series(data=array)\n",
        "print('Series with numpy array is')\n",
        "print(s)"
      ],
      "metadata": {
        "colab": {
          "base_uri": "https://localhost:8080/"
        },
        "id": "m5WDQARaS_Ml",
        "outputId": "0873d008-2fd6-496a-8f40-abe7d97e92f1"
      },
      "execution_count": 10,
      "outputs": [
        {
          "output_type": "stream",
          "name": "stdout",
          "text": [
            "Series with numpy array is\n",
            "0    1.1\n",
            "1    2.2\n",
            "2    3.1\n",
            "3    3.4\n",
            "dtype: float64\n"
          ]
        }
      ]
    },
    {
      "cell_type": "code",
      "source": [
        "# Creating series object using string\n",
        "import pandas as pd\n",
        "s1=pd.Series('Hello Friends!!!')\n",
        "print(s1)\n",
        "s2=pd.Series(data=['H','e','l','1','o'])\n",
        "print(s2)"
      ],
      "metadata": {
        "colab": {
          "base_uri": "https://localhost:8080/"
        },
        "id": "t-Mo1XrFTHxa",
        "outputId": "3655d7ec-d5e2-4ea9-cee7-7b364b44aecf"
      },
      "execution_count": 12,
      "outputs": [
        {
          "output_type": "stream",
          "name": "stdout",
          "text": [
            "0    Hello Friends!!!\n",
            "dtype: object\n",
            "0    H\n",
            "1    e\n",
            "2    l\n",
            "3    1\n",
            "4    o\n",
            "dtype: object\n"
          ]
        }
      ]
    },
    {
      "cell_type": "code",
      "source": [
        "# Creating series object using multiple strings\n",
        "import pandas as pd\n",
        "s1=pd.Series(data=['Hello','my','dear','students'])\n",
        "print(s1)\n"
      ],
      "metadata": {
        "colab": {
          "base_uri": "https://localhost:8080/"
        },
        "id": "CjJg7EUSTPOh",
        "outputId": "9fb5a171-f817-4f79-85e1-4e1d4eda5dbe"
      },
      "execution_count": 13,
      "outputs": [
        {
          "output_type": "stream",
          "name": "stdout",
          "text": [
            "0       Hello\n",
            "1          my\n",
            "2        dear\n",
            "3    students\n",
            "dtype: object\n"
          ]
        }
      ]
    },
    {
      "cell_type": "code",
      "source": [
        "# Creating series object using Dictionaries\n",
        "import pandas as pd\n",
        "s1=pd.Series(data={'key1':'value1','key2':'value2','key3':'value3'})\n",
        "print(s1)\n",
        "s2=pd.Series(data={'student1':100,'student2':80,'student3':90})\n",
        "print(s2)"
      ],
      "metadata": {
        "colab": {
          "base_uri": "https://localhost:8080/"
        },
        "id": "lfvNuGQ9TUqM",
        "outputId": "af8058a8-997a-42dc-af66-8319768dafd0"
      },
      "execution_count": 15,
      "outputs": [
        {
          "output_type": "stream",
          "name": "stdout",
          "text": [
            "key1    value1\n",
            "key2    value2\n",
            "key3    value3\n",
            "dtype: object\n",
            "student1    100\n",
            "student2     80\n",
            "student3     90\n",
            "dtype: int64\n"
          ]
        }
      ]
    }
  ]
}